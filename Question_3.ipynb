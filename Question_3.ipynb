{
 "cells": [
  {
   "cell_type": "code",
   "execution_count": 1,
   "id": "70fbb423",
   "metadata": {},
   "outputs": [],
   "source": [
    "import numpy as np\n",
    "import pandas as pd\n",
    "import matplotlib.pyplot as plt"
   ]
  },
  {
   "cell_type": "code",
   "execution_count": 2,
   "id": "ec1ea841",
   "metadata": {},
   "outputs": [],
   "source": [
    "df=pd.read_csv(\"company_sales_data.csv\")"
   ]
  },
  {
   "cell_type": "code",
   "execution_count": 3,
   "id": "d86618fa",
   "metadata": {},
   "outputs": [
    {
     "data": {
      "text/html": [
       "<div>\n",
       "<style scoped>\n",
       "    .dataframe tbody tr th:only-of-type {\n",
       "        vertical-align: middle;\n",
       "    }\n",
       "\n",
       "    .dataframe tbody tr th {\n",
       "        vertical-align: top;\n",
       "    }\n",
       "\n",
       "    .dataframe thead th {\n",
       "        text-align: right;\n",
       "    }\n",
       "</style>\n",
       "<table border=\"1\" class=\"dataframe\">\n",
       "  <thead>\n",
       "    <tr style=\"text-align: right;\">\n",
       "      <th></th>\n",
       "      <th>month_number</th>\n",
       "      <th>facecream</th>\n",
       "      <th>facewash</th>\n",
       "      <th>toothpaste</th>\n",
       "      <th>bathingsoap</th>\n",
       "      <th>shampoo</th>\n",
       "      <th>moisturizer</th>\n",
       "      <th>total_units</th>\n",
       "      <th>total_profit</th>\n",
       "    </tr>\n",
       "  </thead>\n",
       "  <tbody>\n",
       "    <tr>\n",
       "      <th>0</th>\n",
       "      <td>1</td>\n",
       "      <td>2500</td>\n",
       "      <td>1500</td>\n",
       "      <td>5200</td>\n",
       "      <td>9200</td>\n",
       "      <td>1200</td>\n",
       "      <td>1500</td>\n",
       "      <td>21100</td>\n",
       "      <td>211000</td>\n",
       "    </tr>\n",
       "    <tr>\n",
       "      <th>1</th>\n",
       "      <td>2</td>\n",
       "      <td>2630</td>\n",
       "      <td>1200</td>\n",
       "      <td>5100</td>\n",
       "      <td>6100</td>\n",
       "      <td>2100</td>\n",
       "      <td>1200</td>\n",
       "      <td>18330</td>\n",
       "      <td>183300</td>\n",
       "    </tr>\n",
       "    <tr>\n",
       "      <th>2</th>\n",
       "      <td>3</td>\n",
       "      <td>2140</td>\n",
       "      <td>1340</td>\n",
       "      <td>4550</td>\n",
       "      <td>9550</td>\n",
       "      <td>3550</td>\n",
       "      <td>1340</td>\n",
       "      <td>22470</td>\n",
       "      <td>224700</td>\n",
       "    </tr>\n",
       "    <tr>\n",
       "      <th>3</th>\n",
       "      <td>4</td>\n",
       "      <td>3400</td>\n",
       "      <td>1130</td>\n",
       "      <td>5870</td>\n",
       "      <td>8870</td>\n",
       "      <td>1870</td>\n",
       "      <td>1130</td>\n",
       "      <td>22270</td>\n",
       "      <td>222700</td>\n",
       "    </tr>\n",
       "    <tr>\n",
       "      <th>4</th>\n",
       "      <td>5</td>\n",
       "      <td>3600</td>\n",
       "      <td>1740</td>\n",
       "      <td>4560</td>\n",
       "      <td>7760</td>\n",
       "      <td>1560</td>\n",
       "      <td>1740</td>\n",
       "      <td>20960</td>\n",
       "      <td>209600</td>\n",
       "    </tr>\n",
       "  </tbody>\n",
       "</table>\n",
       "</div>"
      ],
      "text/plain": [
       "   month_number  facecream  facewash  toothpaste  bathingsoap  shampoo  \\\n",
       "0             1       2500      1500        5200         9200     1200   \n",
       "1             2       2630      1200        5100         6100     2100   \n",
       "2             3       2140      1340        4550         9550     3550   \n",
       "3             4       3400      1130        5870         8870     1870   \n",
       "4             5       3600      1740        4560         7760     1560   \n",
       "\n",
       "   moisturizer  total_units  total_profit  \n",
       "0         1500        21100        211000  \n",
       "1         1200        18330        183300  \n",
       "2         1340        22470        224700  \n",
       "3         1130        22270        222700  \n",
       "4         1740        20960        209600  "
      ]
     },
     "execution_count": 3,
     "metadata": {},
     "output_type": "execute_result"
    }
   ],
   "source": [
    "df.head()"
   ]
  },
  {
   "cell_type": "markdown",
   "id": "26790938",
   "metadata": {},
   "source": [
    "# 1. Read the dataset and store it in a pandas data frame"
   ]
  },
  {
   "cell_type": "code",
   "execution_count": 4,
   "id": "fa6dec83",
   "metadata": {},
   "outputs": [
    {
     "data": {
      "text/html": [
       "<div>\n",
       "<style scoped>\n",
       "    .dataframe tbody tr th:only-of-type {\n",
       "        vertical-align: middle;\n",
       "    }\n",
       "\n",
       "    .dataframe tbody tr th {\n",
       "        vertical-align: top;\n",
       "    }\n",
       "\n",
       "    .dataframe thead th {\n",
       "        text-align: right;\n",
       "    }\n",
       "</style>\n",
       "<table border=\"1\" class=\"dataframe\">\n",
       "  <thead>\n",
       "    <tr style=\"text-align: right;\">\n",
       "      <th></th>\n",
       "      <th>month_number</th>\n",
       "      <th>facecream</th>\n",
       "      <th>facewash</th>\n",
       "      <th>toothpaste</th>\n",
       "      <th>bathingsoap</th>\n",
       "      <th>shampoo</th>\n",
       "      <th>moisturizer</th>\n",
       "      <th>total_units</th>\n",
       "      <th>total_profit</th>\n",
       "    </tr>\n",
       "  </thead>\n",
       "  <tbody>\n",
       "    <tr>\n",
       "      <th>0</th>\n",
       "      <td>1</td>\n",
       "      <td>2500</td>\n",
       "      <td>1500</td>\n",
       "      <td>5200</td>\n",
       "      <td>9200</td>\n",
       "      <td>1200</td>\n",
       "      <td>1500</td>\n",
       "      <td>21100</td>\n",
       "      <td>211000</td>\n",
       "    </tr>\n",
       "    <tr>\n",
       "      <th>1</th>\n",
       "      <td>2</td>\n",
       "      <td>2630</td>\n",
       "      <td>1200</td>\n",
       "      <td>5100</td>\n",
       "      <td>6100</td>\n",
       "      <td>2100</td>\n",
       "      <td>1200</td>\n",
       "      <td>18330</td>\n",
       "      <td>183300</td>\n",
       "    </tr>\n",
       "    <tr>\n",
       "      <th>2</th>\n",
       "      <td>3</td>\n",
       "      <td>2140</td>\n",
       "      <td>1340</td>\n",
       "      <td>4550</td>\n",
       "      <td>9550</td>\n",
       "      <td>3550</td>\n",
       "      <td>1340</td>\n",
       "      <td>22470</td>\n",
       "      <td>224700</td>\n",
       "    </tr>\n",
       "    <tr>\n",
       "      <th>3</th>\n",
       "      <td>4</td>\n",
       "      <td>3400</td>\n",
       "      <td>1130</td>\n",
       "      <td>5870</td>\n",
       "      <td>8870</td>\n",
       "      <td>1870</td>\n",
       "      <td>1130</td>\n",
       "      <td>22270</td>\n",
       "      <td>222700</td>\n",
       "    </tr>\n",
       "    <tr>\n",
       "      <th>4</th>\n",
       "      <td>5</td>\n",
       "      <td>3600</td>\n",
       "      <td>1740</td>\n",
       "      <td>4560</td>\n",
       "      <td>7760</td>\n",
       "      <td>1560</td>\n",
       "      <td>1740</td>\n",
       "      <td>20960</td>\n",
       "      <td>209600</td>\n",
       "    </tr>\n",
       "    <tr>\n",
       "      <th>5</th>\n",
       "      <td>6</td>\n",
       "      <td>2760</td>\n",
       "      <td>1555</td>\n",
       "      <td>4890</td>\n",
       "      <td>7490</td>\n",
       "      <td>1890</td>\n",
       "      <td>1555</td>\n",
       "      <td>20140</td>\n",
       "      <td>201400</td>\n",
       "    </tr>\n",
       "    <tr>\n",
       "      <th>6</th>\n",
       "      <td>7</td>\n",
       "      <td>2980</td>\n",
       "      <td>1120</td>\n",
       "      <td>4780</td>\n",
       "      <td>8980</td>\n",
       "      <td>1780</td>\n",
       "      <td>1120</td>\n",
       "      <td>29550</td>\n",
       "      <td>295500</td>\n",
       "    </tr>\n",
       "    <tr>\n",
       "      <th>7</th>\n",
       "      <td>8</td>\n",
       "      <td>3700</td>\n",
       "      <td>1400</td>\n",
       "      <td>5860</td>\n",
       "      <td>9960</td>\n",
       "      <td>2860</td>\n",
       "      <td>1400</td>\n",
       "      <td>36140</td>\n",
       "      <td>361400</td>\n",
       "    </tr>\n",
       "    <tr>\n",
       "      <th>8</th>\n",
       "      <td>9</td>\n",
       "      <td>3540</td>\n",
       "      <td>1780</td>\n",
       "      <td>6100</td>\n",
       "      <td>8100</td>\n",
       "      <td>2100</td>\n",
       "      <td>1780</td>\n",
       "      <td>23400</td>\n",
       "      <td>234000</td>\n",
       "    </tr>\n",
       "    <tr>\n",
       "      <th>9</th>\n",
       "      <td>10</td>\n",
       "      <td>1990</td>\n",
       "      <td>1890</td>\n",
       "      <td>8300</td>\n",
       "      <td>10300</td>\n",
       "      <td>2300</td>\n",
       "      <td>1890</td>\n",
       "      <td>26670</td>\n",
       "      <td>266700</td>\n",
       "    </tr>\n",
       "    <tr>\n",
       "      <th>10</th>\n",
       "      <td>11</td>\n",
       "      <td>2340</td>\n",
       "      <td>2100</td>\n",
       "      <td>7300</td>\n",
       "      <td>13300</td>\n",
       "      <td>2400</td>\n",
       "      <td>2100</td>\n",
       "      <td>41280</td>\n",
       "      <td>412800</td>\n",
       "    </tr>\n",
       "    <tr>\n",
       "      <th>11</th>\n",
       "      <td>12</td>\n",
       "      <td>2900</td>\n",
       "      <td>1760</td>\n",
       "      <td>7400</td>\n",
       "      <td>14400</td>\n",
       "      <td>1800</td>\n",
       "      <td>1760</td>\n",
       "      <td>30020</td>\n",
       "      <td>300200</td>\n",
       "    </tr>\n",
       "  </tbody>\n",
       "</table>\n",
       "</div>"
      ],
      "text/plain": [
       "    month_number  facecream  facewash  toothpaste  bathingsoap  shampoo  \\\n",
       "0              1       2500      1500        5200         9200     1200   \n",
       "1              2       2630      1200        5100         6100     2100   \n",
       "2              3       2140      1340        4550         9550     3550   \n",
       "3              4       3400      1130        5870         8870     1870   \n",
       "4              5       3600      1740        4560         7760     1560   \n",
       "5              6       2760      1555        4890         7490     1890   \n",
       "6              7       2980      1120        4780         8980     1780   \n",
       "7              8       3700      1400        5860         9960     2860   \n",
       "8              9       3540      1780        6100         8100     2100   \n",
       "9             10       1990      1890        8300        10300     2300   \n",
       "10            11       2340      2100        7300        13300     2400   \n",
       "11            12       2900      1760        7400        14400     1800   \n",
       "\n",
       "    moisturizer  total_units  total_profit  \n",
       "0          1500        21100        211000  \n",
       "1          1200        18330        183300  \n",
       "2          1340        22470        224700  \n",
       "3          1130        22270        222700  \n",
       "4          1740        20960        209600  \n",
       "5          1555        20140        201400  \n",
       "6          1120        29550        295500  \n",
       "7          1400        36140        361400  \n",
       "8          1780        23400        234000  \n",
       "9          1890        26670        266700  \n",
       "10         2100        41280        412800  \n",
       "11         1760        30020        300200  "
      ]
     },
     "execution_count": 4,
     "metadata": {},
     "output_type": "execute_result"
    }
   ],
   "source": [
    "df\n"
   ]
  },
  {
   "cell_type": "markdown",
   "id": "c311cc33",
   "metadata": {},
   "source": [
    "# 2. Extract the product names into a list from the data frame"
   ]
  },
  {
   "cell_type": "code",
   "execution_count": 5,
   "id": "58e7ee60",
   "metadata": {},
   "outputs": [
    {
     "data": {
      "text/plain": [
       "['month_number',\n",
       " 'facecream',\n",
       " 'facewash',\n",
       " 'toothpaste',\n",
       " 'bathingsoap',\n",
       " 'shampoo',\n",
       " 'moisturizer',\n",
       " 'total_units',\n",
       " 'total_profit']"
      ]
     },
     "execution_count": 5,
     "metadata": {},
     "output_type": "execute_result"
    }
   ],
   "source": [
    "b=[col for col in df]\n",
    "b"
   ]
  },
  {
   "cell_type": "code",
   "execution_count": 6,
   "id": "58fcb613",
   "metadata": {},
   "outputs": [
    {
     "data": {
      "text/plain": [
       "['facecream',\n",
       " 'facewash',\n",
       " 'toothpaste',\n",
       " 'bathingsoap',\n",
       " 'shampoo',\n",
       " 'moisturizer']"
      ]
     },
     "execution_count": 6,
     "metadata": {},
     "output_type": "execute_result"
    }
   ],
   "source": [
    "b=list(df)\n",
    "b[1:7]"
   ]
  },
  {
   "cell_type": "markdown",
   "id": "210ded68",
   "metadata": {},
   "source": [
    "# 3. Create a two-dimensional list of product names and sales"
   ]
  },
  {
   "cell_type": "code",
   "execution_count": 7,
   "id": "209d46bf",
   "metadata": {},
   "outputs": [
    {
     "data": {
      "text/plain": [
       "array([[     1,   2500,   1500,   5200,   9200,   1200,   1500,  21100,\n",
       "        211000],\n",
       "       [     2,   2630,   1200,   5100,   6100,   2100,   1200,  18330,\n",
       "        183300],\n",
       "       [     3,   2140,   1340,   4550,   9550,   3550,   1340,  22470,\n",
       "        224700],\n",
       "       [     4,   3400,   1130,   5870,   8870,   1870,   1130,  22270,\n",
       "        222700],\n",
       "       [     5,   3600,   1740,   4560,   7760,   1560,   1740,  20960,\n",
       "        209600],\n",
       "       [     6,   2760,   1555,   4890,   7490,   1890,   1555,  20140,\n",
       "        201400],\n",
       "       [     7,   2980,   1120,   4780,   8980,   1780,   1120,  29550,\n",
       "        295500],\n",
       "       [     8,   3700,   1400,   5860,   9960,   2860,   1400,  36140,\n",
       "        361400],\n",
       "       [     9,   3540,   1780,   6100,   8100,   2100,   1780,  23400,\n",
       "        234000],\n",
       "       [    10,   1990,   1890,   8300,  10300,   2300,   1890,  26670,\n",
       "        266700],\n",
       "       [    11,   2340,   2100,   7300,  13300,   2400,   2100,  41280,\n",
       "        412800],\n",
       "       [    12,   2900,   1760,   7400,  14400,   1800,   1760,  30020,\n",
       "        300200]], dtype=int64)"
      ]
     },
     "execution_count": 7,
     "metadata": {},
     "output_type": "execute_result"
    }
   ],
   "source": [
    "arr=df.to_numpy()\n",
    "arr"
   ]
  },
  {
   "cell_type": "code",
   "execution_count": 8,
   "id": "91641243",
   "metadata": {},
   "outputs": [
    {
     "data": {
      "text/plain": [
       "numpy.ndarray"
      ]
     },
     "execution_count": 8,
     "metadata": {},
     "output_type": "execute_result"
    }
   ],
   "source": [
    "type(arr)"
   ]
  },
  {
   "cell_type": "markdown",
   "id": "56c3507d",
   "metadata": {},
   "source": [
    "# 4. Create a dictionary of sold items\n"
   ]
  },
  {
   "cell_type": "code",
   "execution_count": 9,
   "id": "92bfefcd",
   "metadata": {},
   "outputs": [
    {
     "data": {
      "text/plain": [
       "{'month_number': {0: 1,\n",
       "  1: 2,\n",
       "  2: 3,\n",
       "  3: 4,\n",
       "  4: 5,\n",
       "  5: 6,\n",
       "  6: 7,\n",
       "  7: 8,\n",
       "  8: 9,\n",
       "  9: 10,\n",
       "  10: 11,\n",
       "  11: 12},\n",
       " 'facecream': {0: 2500,\n",
       "  1: 2630,\n",
       "  2: 2140,\n",
       "  3: 3400,\n",
       "  4: 3600,\n",
       "  5: 2760,\n",
       "  6: 2980,\n",
       "  7: 3700,\n",
       "  8: 3540,\n",
       "  9: 1990,\n",
       "  10: 2340,\n",
       "  11: 2900},\n",
       " 'facewash': {0: 1500,\n",
       "  1: 1200,\n",
       "  2: 1340,\n",
       "  3: 1130,\n",
       "  4: 1740,\n",
       "  5: 1555,\n",
       "  6: 1120,\n",
       "  7: 1400,\n",
       "  8: 1780,\n",
       "  9: 1890,\n",
       "  10: 2100,\n",
       "  11: 1760},\n",
       " 'toothpaste': {0: 5200,\n",
       "  1: 5100,\n",
       "  2: 4550,\n",
       "  3: 5870,\n",
       "  4: 4560,\n",
       "  5: 4890,\n",
       "  6: 4780,\n",
       "  7: 5860,\n",
       "  8: 6100,\n",
       "  9: 8300,\n",
       "  10: 7300,\n",
       "  11: 7400},\n",
       " 'bathingsoap': {0: 9200,\n",
       "  1: 6100,\n",
       "  2: 9550,\n",
       "  3: 8870,\n",
       "  4: 7760,\n",
       "  5: 7490,\n",
       "  6: 8980,\n",
       "  7: 9960,\n",
       "  8: 8100,\n",
       "  9: 10300,\n",
       "  10: 13300,\n",
       "  11: 14400},\n",
       " 'shampoo': {0: 1200,\n",
       "  1: 2100,\n",
       "  2: 3550,\n",
       "  3: 1870,\n",
       "  4: 1560,\n",
       "  5: 1890,\n",
       "  6: 1780,\n",
       "  7: 2860,\n",
       "  8: 2100,\n",
       "  9: 2300,\n",
       "  10: 2400,\n",
       "  11: 1800},\n",
       " 'moisturizer': {0: 1500,\n",
       "  1: 1200,\n",
       "  2: 1340,\n",
       "  3: 1130,\n",
       "  4: 1740,\n",
       "  5: 1555,\n",
       "  6: 1120,\n",
       "  7: 1400,\n",
       "  8: 1780,\n",
       "  9: 1890,\n",
       "  10: 2100,\n",
       "  11: 1760},\n",
       " 'total_units': {0: 21100,\n",
       "  1: 18330,\n",
       "  2: 22470,\n",
       "  3: 22270,\n",
       "  4: 20960,\n",
       "  5: 20140,\n",
       "  6: 29550,\n",
       "  7: 36140,\n",
       "  8: 23400,\n",
       "  9: 26670,\n",
       "  10: 41280,\n",
       "  11: 30020},\n",
       " 'total_profit': {0: 211000,\n",
       "  1: 183300,\n",
       "  2: 224700,\n",
       "  3: 222700,\n",
       "  4: 209600,\n",
       "  5: 201400,\n",
       "  6: 295500,\n",
       "  7: 361400,\n",
       "  8: 234000,\n",
       "  9: 266700,\n",
       "  10: 412800,\n",
       "  11: 300200}}"
      ]
     },
     "execution_count": 9,
     "metadata": {},
     "output_type": "execute_result"
    }
   ],
   "source": [
    "data_dict=df.to_dict()\n",
    "data_dict"
   ]
  },
  {
   "cell_type": "code",
   "execution_count": 10,
   "id": "540019a5",
   "metadata": {},
   "outputs": [
    {
     "data": {
      "text/plain": [
       "dict"
      ]
     },
     "execution_count": 10,
     "metadata": {},
     "output_type": "execute_result"
    }
   ],
   "source": [
    "type(data_dict)"
   ]
  },
  {
   "cell_type": "markdown",
   "id": "31b26e2e",
   "metadata": {},
   "source": [
    "# 5. What is the average profit of the company in a month"
   ]
  },
  {
   "cell_type": "code",
   "execution_count": 11,
   "id": "d6995fbc",
   "metadata": {},
   "outputs": [
    {
     "data": {
      "text/plain": [
       "260275.0"
      ]
     },
     "execution_count": 11,
     "metadata": {},
     "output_type": "execute_result"
    }
   ],
   "source": [
    "df[\"total_profit\"].mean()"
   ]
  },
  {
   "cell_type": "markdown",
   "id": "7e731b24",
   "metadata": {},
   "source": [
    "# 6. Get the most sold item of the company"
   ]
  },
  {
   "cell_type": "code",
   "execution_count": 12,
   "id": "3875d1f3",
   "metadata": {},
   "outputs": [
    {
     "name": "stdout",
     "output_type": "stream",
     "text": [
      "month_number \t 78\n",
      "facecream \t 34480\n",
      "facewash \t 18515\n",
      "toothpaste \t 69910\n",
      "bathingsoap \t 114010\n",
      "shampoo \t 25410\n",
      "moisturizer \t 18515\n",
      "total_units \t 312330\n",
      "total_profit \t 3123300\n"
     ]
    }
   ],
   "source": [
    "for i in list(df):\n",
    "    x=df[i].sum()\n",
    "    print(i,\"\\t\" ,x)"
   ]
  },
  {
   "cell_type": "markdown",
   "id": "c618092f",
   "metadata": {},
   "source": [
    "# 7. Read Total profit of all months and show it using a line plot"
   ]
  },
  {
   "cell_type": "code",
   "execution_count": 13,
   "id": "214a5a2b",
   "metadata": {},
   "outputs": [],
   "source": [
    "# df_new=pd.read_csv(\"company_sales_data.csv\",usecols=['month_number','total_profit'])\n",
    "# df_new\n",
    "df_n=df['total_profit']"
   ]
  },
  {
   "cell_type": "code",
   "execution_count": 14,
   "id": "243ec9b7",
   "metadata": {},
   "outputs": [
    {
     "data": {
      "image/png": "[encoded data removed]",
      "text/plain": [
       "<Figure size 432x288 with 1 Axes>"
      ]
     },
     "metadata": {
      "needs_background": "light"
     },
     "output_type": "display_data"
    }
   ],
   "source": [
    "plt.plot(df_n)\n",
    "plt.show()"
   ]
  },
  {
   "cell_type": "markdown",
   "id": "f535f147",
   "metadata": {},
   "source": [
    "# 8. Read all product sales data and show it using a Multiline Plot"
   ]
  },
  {
   "cell_type": "code",
   "execution_count": 15,
   "id": "05e3dfc7",
   "metadata": {},
   "outputs": [
    {
     "data": {
      "text/html": [
       "<div>\n",
       "<style scoped>\n",
       "    .dataframe tbody tr th:only-of-type {\n",
       "        vertical-align: middle;\n",
       "    }\n",
       "\n",
       "    .dataframe tbody tr th {\n",
       "        vertical-align: top;\n",
       "    }\n",
       "\n",
       "    .dataframe thead th {\n",
       "        text-align: right;\n",
       "    }\n",
       "</style>\n",
       "<table border=\"1\" class=\"dataframe\">\n",
       "  <thead>\n",
       "    <tr style=\"text-align: right;\">\n",
       "      <th></th>\n",
       "      <th>facecream</th>\n",
       "      <th>facewash</th>\n",
       "      <th>toothpaste</th>\n",
       "      <th>bathingsoap</th>\n",
       "      <th>shampoo</th>\n",
       "      <th>moisturizer</th>\n",
       "    </tr>\n",
       "  </thead>\n",
       "  <tbody>\n",
       "    <tr>\n",
       "      <th>0</th>\n",
       "      <td>2500</td>\n",
       "      <td>1500</td>\n",
       "      <td>5200</td>\n",
       "      <td>9200</td>\n",
       "      <td>1200</td>\n",
       "      <td>1500</td>\n",
       "    </tr>\n",
       "    <tr>\n",
       "      <th>1</th>\n",
       "      <td>2630</td>\n",
       "      <td>1200</td>\n",
       "      <td>5100</td>\n",
       "      <td>6100</td>\n",
       "      <td>2100</td>\n",
       "      <td>1200</td>\n",
       "    </tr>\n",
       "    <tr>\n",
       "      <th>2</th>\n",
       "      <td>2140</td>\n",
       "      <td>1340</td>\n",
       "      <td>4550</td>\n",
       "      <td>9550</td>\n",
       "      <td>3550</td>\n",
       "      <td>1340</td>\n",
       "    </tr>\n",
       "    <tr>\n",
       "      <th>3</th>\n",
       "      <td>3400</td>\n",
       "      <td>1130</td>\n",
       "      <td>5870</td>\n",
       "      <td>8870</td>\n",
       "      <td>1870</td>\n",
       "      <td>1130</td>\n",
       "    </tr>\n",
       "    <tr>\n",
       "      <th>4</th>\n",
       "      <td>3600</td>\n",
       "      <td>1740</td>\n",
       "      <td>4560</td>\n",
       "      <td>7760</td>\n",
       "      <td>1560</td>\n",
       "      <td>1740</td>\n",
       "    </tr>\n",
       "    <tr>\n",
       "      <th>5</th>\n",
       "      <td>2760</td>\n",
       "      <td>1555</td>\n",
       "      <td>4890</td>\n",
       "      <td>7490</td>\n",
       "      <td>1890</td>\n",
       "      <td>1555</td>\n",
       "    </tr>\n",
       "    <tr>\n",
       "      <th>6</th>\n",
       "      <td>2980</td>\n",
       "      <td>1120</td>\n",
       "      <td>4780</td>\n",
       "      <td>8980</td>\n",
       "      <td>1780</td>\n",
       "      <td>1120</td>\n",
       "    </tr>\n",
       "    <tr>\n",
       "      <th>7</th>\n",
       "      <td>3700</td>\n",
       "      <td>1400</td>\n",
       "      <td>5860</td>\n",
       "      <td>9960</td>\n",
       "      <td>2860</td>\n",
       "      <td>1400</td>\n",
       "    </tr>\n",
       "    <tr>\n",
       "      <th>8</th>\n",
       "      <td>3540</td>\n",
       "      <td>1780</td>\n",
       "      <td>6100</td>\n",
       "      <td>8100</td>\n",
       "      <td>2100</td>\n",
       "      <td>1780</td>\n",
       "    </tr>\n",
       "    <tr>\n",
       "      <th>9</th>\n",
       "      <td>1990</td>\n",
       "      <td>1890</td>\n",
       "      <td>8300</td>\n",
       "      <td>10300</td>\n",
       "      <td>2300</td>\n",
       "      <td>1890</td>\n",
       "    </tr>\n",
       "    <tr>\n",
       "      <th>10</th>\n",
       "      <td>2340</td>\n",
       "      <td>2100</td>\n",
       "      <td>7300</td>\n",
       "      <td>13300</td>\n",
       "      <td>2400</td>\n",
       "      <td>2100</td>\n",
       "    </tr>\n",
       "    <tr>\n",
       "      <th>11</th>\n",
       "      <td>2900</td>\n",
       "      <td>1760</td>\n",
       "      <td>7400</td>\n",
       "      <td>14400</td>\n",
       "      <td>1800</td>\n",
       "      <td>1760</td>\n",
       "    </tr>\n",
       "  </tbody>\n",
       "</table>\n",
       "</div>"
      ],
      "text/plain": [
       "    facecream  facewash  toothpaste  bathingsoap  shampoo  moisturizer\n",
       "0        2500      1500        5200         9200     1200         1500\n",
       "1        2630      1200        5100         6100     2100         1200\n",
       "2        2140      1340        4550         9550     3550         1340\n",
       "3        3400      1130        5870         8870     1870         1130\n",
       "4        3600      1740        4560         7760     1560         1740\n",
       "5        2760      1555        4890         7490     1890         1555\n",
       "6        2980      1120        4780         8980     1780         1120\n",
       "7        3700      1400        5860         9960     2860         1400\n",
       "8        3540      1780        6100         8100     2100         1780\n",
       "9        1990      1890        8300        10300     2300         1890\n",
       "10       2340      2100        7300        13300     2400         2100\n",
       "11       2900      1760        7400        14400     1800         1760"
      ]
     },
     "execution_count": 15,
     "metadata": {},
     "output_type": "execute_result"
    }
   ],
   "source": [
    "df_new=pd.read_csv(\"company_sales_data.csv\",usecols=['facecream','facewash','toothpaste','bathingsoap','shampoo','moisturizer'])\n",
    "df_new"
   ]
  },
  {
   "cell_type": "code",
   "execution_count": 16,
   "id": "02aa9375",
   "metadata": {},
   "outputs": [
    {
     "data": {
      "image/png": "[encoded data removed]",
      "text/plain": [
       "<Figure size 432x288 with 1 Axes>"
      ]
     },
     "metadata": {
      "needs_background": "light"
     },
     "output_type": "display_data"
    }
   ],
   "source": [
    "plt.plot(df_new)\n",
    "plt.show()"
   ]
  },
  {
   "cell_type": "code",
   "execution_count": 17,
   "id": "19c1cdf7",
   "metadata": {},
   "outputs": [
    {
     "data": {
      "image/png": "[encoded data removed]",
      "text/plain": [
       "<Figure size 432x288 with 1 Axes>"
      ]
     },
     "metadata": {
      "needs_background": "light"
     },
     "output_type": "display_data"
    }
   ],
   "source": [
    "plt.plot(df_new[\"facecream\"],label='facecream')\n",
    "plt.plot(df_new[\"facewash\"],label='facewash')\n",
    "plt.plot(df_new[\"toothpaste\"],label='toothpaste')\n",
    "plt.plot(df_new[\"bathingsoap\"],label='bathingsoap')\n",
    "plt.plot(df_new[\"shampoo\"],label='shampoo')\n",
    "plt.plot(df_new[\"moisturizer\"],label='moisturizer')\n",
    "plt.legend()\n",
    "plt.show()"
   ]
  },
  {
   "cell_type": "markdown",
   "id": "a72848f7",
   "metadata": {},
   "source": [
    "# 9. Read toothpaste sales data of each month and show it using a scatter plot"
   ]
  },
  {
   "cell_type": "code",
   "execution_count": 18,
   "id": "7861021b",
   "metadata": {},
   "outputs": [
    {
     "data": {
      "image/png": "[encoded data removed]",
      "text/plain": [
       "<Figure size 432x288 with 1 Axes>"
      ]
     },
     "metadata": {
      "needs_background": "light"
     },
     "output_type": "display_data"
    }
   ],
   "source": [
    "x=df[\"toothpaste\"]\n",
    "y=df[\"month_number\"]\n",
    "plt.scatter(x,y)\n",
    "plt.xlabel('toothpaste_sales')\n",
    "plt.ylabel('month_number')\n",
    "plt.show()"
   ]
  },
  {
   "cell_type": "markdown",
   "id": "7087d4ed",
   "metadata": {},
   "source": [
    "# 10. Read face cream and face wash product sales data and show it using the bar chart"
   ]
  },
  {
   "cell_type": "code",
   "execution_count": 19,
   "id": "42931c09",
   "metadata": {},
   "outputs": [
    {
     "data": {
      "image/png": "[encoded data removed]",
      "text/plain": [
       "<Figure size 432x288 with 1 Axes>"
      ]
     },
     "metadata": {
      "needs_background": "light"
     },
     "output_type": "display_data"
    }
   ],
   "source": [
    "x=df[\"month_number\"]\n",
    "y=df['facecream']\n",
    "z=df['facewash']\n",
    "rect1=plt.bar(x,y, label=\"facewash\")\n",
    "rect2=plt.bar(x,z,label=\"facecream\")\n",
    "plt.xlabel(\"product sales\")\n",
    "plt.ylabel(\"month number\")\n",
    "plt.legend()\n",
    "plt.show()"
   ]
  },
  {
   "cell_type": "markdown",
   "id": "be800405",
   "metadata": {},
   "source": [
    "# 11. Read Bathing soap and face wash data of all months and display it using a Subplot"
   ]
  },
  {
   "cell_type": "code",
   "execution_count": 20,
   "id": "b6903132",
   "metadata": {},
   "outputs": [
    {
     "data": {
      "image/png": "[encoded data removed]",
      "text/plain": [
       "<Figure size 864x360 with 2 Axes>"
      ]
     },
     "metadata": {
      "needs_background": "light"
     },
     "output_type": "display_data"
    }
   ],
   "source": [
    "x=df[\"month_number\"]\n",
    "y=df['bathingsoap']\n",
    "z=df['facewash']\n",
    "fig=plt.figure(figsize=(12,5))\n",
    "plt.subplot(1,2,1)\n",
    "plt.plot(x,y,color=\"green\")\n",
    "plt.title(\"Bathing Soap sales\")\n",
    "plt.xlabel(\"no of months\")\n",
    "plt.ylabel(\"Bathing soap\")\n",
    "plt.subplot(1,2,2)\n",
    "plt.bar(x,z,color=\"red\")\n",
    "plt.title(\"Face wash sales\")\n",
    "plt.xlabel(\"no of months\")\n",
    "plt.ylabel(\"face wash\")\n",
    "plt.show()"
   ]
  },
  {
   "cell_type": "markdown",
   "id": "8e466bc4",
   "metadata": {},
   "source": [
    "# 12. Calculate total sale data for last year for each product and show it using a Pie chart"
   ]
  },
  {
   "cell_type": "code",
   "execution_count": 22,
   "id": "a02aa0ed",
   "metadata": {},
   "outputs": [
    {
     "data": {
      "text/plain": [
       "[34480, 18515, 69910, 114010, 25410, 18515]"
      ]
     },
     "execution_count": 22,
     "metadata": {},
     "output_type": "execute_result"
    }
   ],
   "source": [
    "d=[df[i].sum() for i in df_new]\n",
    "d"
   ]
  },
  {
   "cell_type": "code",
   "execution_count": 23,
   "id": "6b9d1cf4",
   "metadata": {},
   "outputs": [
    {
     "data": {
      "image/png": "[encoded data removed]",
      "text/plain": [
       "<Figure size 432x288 with 1 Axes>"
      ]
     },
     "metadata": {},
     "output_type": "display_data"
    }
   ],
   "source": [
    "labels=['facecream','facewash','toothpaste','bathingsoap','shampoo','moisturizer']\n",
    "plt.pie(x,labels=labels,autopct=\"%1.1f%%\")\n",
    "plt.show()\n"
   ]
  },
  {
   "cell_type": "code",
   "execution_count": null,
   "id": "7d410fcc",
   "metadata": {},
   "outputs": [],
   "source": []
  }
 ],
 "metadata": {
  "kernelspec": {
   "display_name": "Python 3 (ipykernel)",
   "language": "python",
   "name": "python3"
  },
  "language_info": {
   "codemirror_mode": {
    "name": "ipython",
    "version": 3
   },
   "file_extension": ".py",
   "mimetype": "text/x-python",
   "name": "python",
   "nbconvert_exporter": "python",
   "pygments_lexer": "ipython3",
   "version": "3.9.6"
  }
 },
 "nbformat": 4,
 "nbformat_minor": 5
}
