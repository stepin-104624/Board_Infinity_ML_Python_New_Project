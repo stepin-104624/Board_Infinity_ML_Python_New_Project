{
 "cells": [
  {
   "cell_type": "code",
   "execution_count": 9,
   "id": "ccf21246",
   "metadata": {},
   "outputs": [
    {
     "name": "stdout",
     "output_type": "stream",
     "text": [
      "CustomerNum, 1, 2, 3, 51, 52, 53, 54, 4, 5, 6, 55, 56, 57, 58, 7, 8, 9, 59, 60, 61, 62, 10, 11, 12, 63, 64, 65, 66, 13, 14, 15, 67, 68, 69, 70, 16, 17, 18, 71, 72, 73, 74, 19, 20, 21, 75, 76, 77, 78, 22, 23, 24, 79, 80, 81, 82, 25, 26, 27, 83, 84, 85, 86, 28, 29, 30, 87, 88, 89, 90, 31, 32, 33, 91, 92, 93, 94, 34, 35, 36, 95, 96, 97, 98, 37, 38, 39, 99, 100, 40, 41, 42, 43, 44, 45, 46, 47, 48, 49, 50\n"
     ]
    }
   ],
   "source": [
    "from openpyxl import load_workbook as gn,Workbook as vk\n",
    "book0,book1=(gn('Table1.xlsx')),(gn('Table2.xlsx'))\n",
    "l1=sorted([j.value for i in (list((book0.active).rows))[1:] for j in i])\n",
    "l2=sorted([j.value for i in (list((book1.active).rows))[1:] for j in i])\n",
    "l1=[l1[i:i+3] for i in range(0,len(l1),+3)]\n",
    "l2=[l2[i:i+4] for i in range(0,len(l2),+4)]\n",
    "res=[]\n",
    "while 1:\n",
    "\ttry:\n",
    "\t\tres.append(l1.pop(0))\n",
    "\t\tres.append(l2.pop(0))\n",
    "\texcept IndexError:\n",
    "\t\tbreak\n",
    "res=(res+(len(l2)==0 and l1 or l2))\n",
    "res=[j for i in res for j in i]\n",
    "book=vk()\n",
    "res.insert(0,\"CustomerNum\")\n",
    "res1=[\"A\"+str(i) for i in range(1,len(res)+1)]\n",
    "sheet2=book.active\n",
    "for i in range(len(res)):\n",
    "\tsheet2[res1[i]] = res[i]\n",
    "book.save(\"Table3.xlsx\")\n",
    "book.close()\n",
    "book0.close()\n",
    "book1.close()\n",
    "print(*res,sep=\", \")"
   ]
  },
  {
   "cell_type": "code",
   "execution_count": null,
   "id": "cacb2aca",
   "metadata": {},
   "outputs": [],
   "source": []
  }
 ],
 "metadata": {
  "kernelspec": {
   "display_name": "Python 3 (ipykernel)",
   "language": "python",
   "name": "python3"
  },
  "language_info": {
   "codemirror_mode": {
    "name": "ipython",
    "version": 3
   },
   "file_extension": ".py",
   "mimetype": "text/x-python",
   "name": "python",
   "nbconvert_exporter": "python",
   "pygments_lexer": "ipython3",
   "version": "3.9.6"
  }
 },
 "nbformat": 4,
 "nbformat_minor": 5
}
